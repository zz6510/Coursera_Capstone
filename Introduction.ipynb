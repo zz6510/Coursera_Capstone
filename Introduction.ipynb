{
    "cells": [
        {
            "cell_type": "markdown",
            "metadata": {
                "collapsed": true
            },
            "source": "# Introduction"
        },
        {
            "cell_type": "markdown",
            "metadata": {},
            "source": "This project aims to develop a model that can be used to predict the expected severity of a motor vehicle accent (should one occur) based on road conditions, weather and other environmental attributes derived from real world motor vehicle accident statistics.\nThe model could be of interest to the following stakeholders \n- Satelite Navigation providers who could combine this severity (consequence) model with model for computing accident likelihood based on locations, thus allowing the provider to deliver a navigation along the lowest risk route\n- Emergency service dispatchers who could use the model for decision support or supplimentary information when determining a course of action to take when calls are received with insufficient details about a motor vehicle collision"
        },
        {
            "cell_type": "code",
            "execution_count": null,
            "metadata": {},
            "outputs": [],
            "source": ""
        }
    ],
    "metadata": {
        "kernelspec": {
            "display_name": "Python 3.6",
            "language": "python",
            "name": "python3"
        },
        "language_info": {
            "codemirror_mode": {
                "name": "ipython",
                "version": 3
            },
            "file_extension": ".py",
            "mimetype": "text/x-python",
            "name": "python",
            "nbconvert_exporter": "python",
            "pygments_lexer": "ipython3",
            "version": "3.6.9"
        }
    },
    "nbformat": 4,
    "nbformat_minor": 1
}